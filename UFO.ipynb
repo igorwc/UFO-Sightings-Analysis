{
 "cells": [
  {
   "cell_type": "markdown",
   "metadata": {},
   "source": [
    "## UFO Sightings Project - Iwas Iwas\n",
    "\n",
    "<img src=\"Data/ufo_pic.jpg\"/>\n",
    "\n",
    "In most UFO sightings, what people believe are UFOs are actually just common objects like planes and clouds, or celestial events like meteors and planets that seem unusually bright.\n",
    "\n",
    "Some cases remain unidentified even after they’ve been investigated, but scientists believe many of these to also be sightings of more common objects that people simply didn’t recognize.\n",
    "\n",
    "Many reported UFO sightings actually turn out to be something as simple as a balloon.\n",
    "\n",
    "### Project Motivation: Classifying the type (e.g. circle, triangle, oval) and the country of a UFO sighting\n",
    "\n",
    "### Structure\n",
    "\n",
    "- Import libaries\n",
    "- Exploratory Data Analysis & Data Preprocessing\n",
    "- Feature Selection\n",
    "- Classifying the country of a UFO Sighting\n",
    "- Classifying the type of a UFO Sighting\n",
    "- Conclusion\n",
    "\n",
    "\n",
    "**Import libaries**"
   ]
  },
  {
   "cell_type": "code",
   "execution_count": 1,
   "metadata": {},
   "outputs": [],
   "source": [
    "import pandas as pd\n",
    "import numpy as np\n",
    "import re\n",
    "import matplotlib.pyplot as plt\n",
    "%matplotlib inline\n",
    "import seaborn as sns\n",
    "from sklearn.feature_extraction.text import TfidfVectorizer\n",
    "from weight_function import * #function to calculate and filter tfidf-vector weights\n",
    "from sklearn.model_selection import train_test_split\n",
    "from sklearn.neighbors import KNeighborsClassifier\n",
    "from sklearn.model_selection import GridSearchCV\n",
    "from sklearn.metrics import classification_report\n",
    "from sklearn.naive_bayes import MultinomialNB"
   ]
  },
  {
   "cell_type": "code",
   "execution_count": 2,
   "metadata": {},
   "outputs": [],
   "source": [
    "df = pd.read_csv('Data/UFO_sightings.csv', delimiter=';')"
   ]
  },
  {
   "cell_type": "markdown",
   "metadata": {},
   "source": [
    "**Exploratory Data Analysis & Data Preprocessing**"
   ]
  },
  {
   "cell_type": "code",
   "execution_count": 3,
   "metadata": {},
   "outputs": [
    {
     "data": {
      "text/html": [
       "<div>\n",
       "<style scoped>\n",
       "    .dataframe tbody tr th:only-of-type {\n",
       "        vertical-align: middle;\n",
       "    }\n",
       "\n",
       "    .dataframe tbody tr th {\n",
       "        vertical-align: top;\n",
       "    }\n",
       "\n",
       "    .dataframe thead th {\n",
       "        text-align: right;\n",
       "    }\n",
       "</style>\n",
       "<table border=\"1\" class=\"dataframe\">\n",
       "  <thead>\n",
       "    <tr style=\"text-align: right;\">\n",
       "      <th></th>\n",
       "      <th>date</th>\n",
       "      <th>city</th>\n",
       "      <th>state</th>\n",
       "      <th>country</th>\n",
       "      <th>type</th>\n",
       "      <th>seconds</th>\n",
       "      <th>length_of_time</th>\n",
       "      <th>desc</th>\n",
       "      <th>recorded</th>\n",
       "      <th>lat</th>\n",
       "      <th>long</th>\n",
       "    </tr>\n",
       "  </thead>\n",
       "  <tbody>\n",
       "    <tr>\n",
       "      <th>0</th>\n",
       "      <td>11/3/2011 19:21</td>\n",
       "      <td>woodville</td>\n",
       "      <td>wi</td>\n",
       "      <td>us</td>\n",
       "      <td>unknown</td>\n",
       "      <td>1209600.0</td>\n",
       "      <td>2 weeks</td>\n",
       "      <td>Red blinking objects similar to airplanes or s...</td>\n",
       "      <td>12/12/2011</td>\n",
       "      <td>44.9530556</td>\n",
       "      <td>-92.291111</td>\n",
       "    </tr>\n",
       "    <tr>\n",
       "      <th>1</th>\n",
       "      <td>10/3/2004 19:05</td>\n",
       "      <td>cleveland</td>\n",
       "      <td>oh</td>\n",
       "      <td>us</td>\n",
       "      <td>circle</td>\n",
       "      <td>30.0</td>\n",
       "      <td>30sec.</td>\n",
       "      <td>Many fighter jets flying towards UFO</td>\n",
       "      <td>10/27/2004</td>\n",
       "      <td>41.4994444</td>\n",
       "      <td>-81.695556</td>\n",
       "    </tr>\n",
       "    <tr>\n",
       "      <th>2</th>\n",
       "      <td>9/25/2009 21:00</td>\n",
       "      <td>coon rapids</td>\n",
       "      <td>mn</td>\n",
       "      <td>us</td>\n",
       "      <td>cigar</td>\n",
       "      <td>0.0</td>\n",
       "      <td>NaN</td>\n",
       "      <td>Green&amp;#44 red&amp;#44 and blue pulses of light tha...</td>\n",
       "      <td>12/12/2009</td>\n",
       "      <td>45.1200000</td>\n",
       "      <td>-93.287500</td>\n",
       "    </tr>\n",
       "    <tr>\n",
       "      <th>3</th>\n",
       "      <td>11/21/2002 05:45</td>\n",
       "      <td>clemmons</td>\n",
       "      <td>nc</td>\n",
       "      <td>us</td>\n",
       "      <td>triangle</td>\n",
       "      <td>300.0</td>\n",
       "      <td>about 5 minutes</td>\n",
       "      <td>It was a large&amp;#44 triangular shaped flying ob...</td>\n",
       "      <td>12/23/2002</td>\n",
       "      <td>36.0213889</td>\n",
       "      <td>-80.382222</td>\n",
       "    </tr>\n",
       "    <tr>\n",
       "      <th>4</th>\n",
       "      <td>8/19/2010 12:55</td>\n",
       "      <td>calgary (canada)</td>\n",
       "      <td>ab</td>\n",
       "      <td>ca</td>\n",
       "      <td>oval</td>\n",
       "      <td>0.0</td>\n",
       "      <td>2</td>\n",
       "      <td>A white spinning disc in the shape of an oval.</td>\n",
       "      <td>8/24/2010</td>\n",
       "      <td>51.083333</td>\n",
       "      <td>-114.083333</td>\n",
       "    </tr>\n",
       "  </tbody>\n",
       "</table>\n",
       "</div>"
      ],
      "text/plain": [
       "               date              city state country      type    seconds  \\\n",
       "0   11/3/2011 19:21         woodville    wi      us   unknown  1209600.0   \n",
       "1   10/3/2004 19:05         cleveland    oh      us    circle       30.0   \n",
       "2   9/25/2009 21:00       coon rapids    mn      us     cigar        0.0   \n",
       "3  11/21/2002 05:45          clemmons    nc      us  triangle      300.0   \n",
       "4   8/19/2010 12:55  calgary (canada)    ab      ca      oval        0.0   \n",
       "\n",
       "    length_of_time                                               desc  \\\n",
       "0          2 weeks  Red blinking objects similar to airplanes or s...   \n",
       "1           30sec.               Many fighter jets flying towards UFO   \n",
       "2              NaN  Green&#44 red&#44 and blue pulses of light tha...   \n",
       "3  about 5 minutes  It was a large&#44 triangular shaped flying ob...   \n",
       "4                2     A white spinning disc in the shape of an oval.   \n",
       "\n",
       "     recorded         lat        long  \n",
       "0  12/12/2011  44.9530556  -92.291111  \n",
       "1  10/27/2004  41.4994444  -81.695556  \n",
       "2  12/12/2009  45.1200000  -93.287500  \n",
       "3  12/23/2002  36.0213889  -80.382222  \n",
       "4   8/24/2010   51.083333 -114.083333  "
      ]
     },
     "execution_count": 3,
     "metadata": {},
     "output_type": "execute_result"
    }
   ],
   "source": [
    "df.head()"
   ]
  },
  {
   "cell_type": "code",
   "execution_count": 4,
   "metadata": {},
   "outputs": [
    {
     "name": "stdout",
     "output_type": "stream",
     "text": [
      "<class 'pandas.core.frame.DataFrame'>\n",
      "RangeIndex: 4935 entries, 0 to 4934\n",
      "Data columns (total 11 columns):\n",
      "date              4935 non-null object\n",
      "city              4926 non-null object\n",
      "state             4516 non-null object\n",
      "country           4255 non-null object\n",
      "type              4776 non-null object\n",
      "seconds           4935 non-null float64\n",
      "length_of_time    4792 non-null object\n",
      "desc              4932 non-null object\n",
      "recorded          4935 non-null object\n",
      "lat               4935 non-null object\n",
      "long              4935 non-null float64\n",
      "dtypes: float64(2), object(9)\n",
      "memory usage: 424.2+ KB\n"
     ]
    }
   ],
   "source": [
    "df.info()"
   ]
  },
  {
   "cell_type": "markdown",
   "metadata": {},
   "source": [
    "The date column is being read in as object. To make further data preprocessing process easier, I will transform it into the DateTime type. The lat column also has to be converted to float (currently object). After that, let's check if/how many missing values are in the dateset."
   ]
  },
  {
   "cell_type": "code",
   "execution_count": 5,
   "metadata": {},
   "outputs": [
    {
     "name": "stdout",
     "output_type": "stream",
     "text": [
      "date    datetime64[ns]\n",
      "lat            float64\n",
      "dtype: object\n",
      "--------------\n",
      "Missing values: \n",
      "date                0\n",
      "city                9\n",
      "state             419\n",
      "country           680\n",
      "type              159\n",
      "seconds             0\n",
      "length_of_time    143\n",
      "desc                3\n",
      "recorded            0\n",
      "lat                 9\n",
      "long                0\n",
      "dtype: int64\n"
     ]
    }
   ],
   "source": [
    "df['date'] = pd.to_datetime(df['date']) #convert date column to DateTime\n",
    "df['lat'] = pd.to_numeric(df['lat'], errors='coerce') #convert lat coloumn to numeric (float)\n",
    "print(df[['date', 'lat']].dtypes) #check types\n",
    "print(\"--------------\\nMissing values: \\n{}\".format(pd.isnull(df).sum()))"
   ]
  },
  {
   "cell_type": "markdown",
   "metadata": {},
   "source": [
    "There are several methods for handling missing values in a dataset (e.g. imputing test statistics, drop rows, drop columns). For this project I have to decided to create a subset without missing data. This is not the best solution and would be best suited for large datasets that can handle a little loss in data."
   ]
  },
  {
   "cell_type": "code",
   "execution_count": 6,
   "metadata": {},
   "outputs": [
    {
     "name": "stdout",
     "output_type": "stream",
     "text": [
      "Missing values after cleaning: \n",
      "date              0\n",
      "city              0\n",
      "state             0\n",
      "country           0\n",
      "type              0\n",
      "seconds           0\n",
      "length_of_time    0\n",
      "desc              0\n",
      "recorded          0\n",
      "lat               0\n",
      "long              0\n",
      "dtype: int64\n"
     ]
    }
   ],
   "source": [
    "df = df[df['city'].notnull() & df['state'].notnull() & df['country'].notnull() & df['type'].notnull() & df['length_of_time'].notnull() & df['desc'].notnull()]\n",
    "print('Missing values after cleaning: \\n{}'.format(pd.isnull(df).sum()))"
   ]
  },
  {
   "cell_type": "markdown",
   "metadata": {},
   "source": [
    "Another problem is the length_of_time column, which should be a numerical value of the duration of the UFO sighting but is stored as an object due to additional strings such as 'about 5 minutes'. I will take care of it by narrowing it down to values that contain minutes. Regular Expressions can take care of that."
   ]
  },
  {
   "cell_type": "code",
   "execution_count": 7,
   "metadata": {},
   "outputs": [
    {
     "name": "stdout",
     "output_type": "stream",
     "text": [
      "     length_of_time  minutes\n",
      "3   about 5 minutes      NaN\n",
      "5        10 minutes     10.0\n",
      "8         2 minutes      2.0\n",
      "9         2 minutes      2.0\n",
      "10        5 minutes      5.0\n"
     ]
    }
   ],
   "source": [
    "df = df[df['length_of_time'].str.contains('minute|minutes')]\n",
    "\n",
    "def return_number(length_of_time):\n",
    "    pattern = re.compile(r'\\d+') #pattern to search for\n",
    "    minute = re.match(pattern, length_of_time) #looks for matches with pattern in entries\n",
    "    if minute is not None:\n",
    "        return int(minute.group(0)) #returns the match\n",
    "\n",
    "df['minutes'] = df['length_of_time'].apply(lambda row: return_number(row)) #iterates over every row-value of length_of_time\n",
    "print(df[['length_of_time', 'minutes']].head())"
   ]
  },
  {
   "cell_type": "markdown",
   "metadata": {},
   "source": [
    "We end up with some NaNs in the new Column. I will take care of them before modeling. Due to the fact that we have column metrics such as seconds and minutes I am going to investigate if those need to be standardized. I will do this by looking at their variance."
   ]
  },
  {
   "cell_type": "code",
   "execution_count": 8,
   "metadata": {},
   "outputs": [
    {
     "name": "stdout",
     "output_type": "stream",
     "text": [
      "seconds    412802.544655\n",
      "lat            31.912671\n",
      "long          328.236396\n",
      "minutes       115.248881\n",
      "dtype: float64\n"
     ]
    }
   ],
   "source": [
    "print(df.var())"
   ]
  },
  {
   "cell_type": "markdown",
   "metadata": {},
   "source": [
    "Due to the high variance the second's column has, I decided to log normalize the values to avoid biasing the model later on."
   ]
  },
  {
   "cell_type": "code",
   "execution_count": 9,
   "metadata": {},
   "outputs": [
    {
     "name": "stdout",
     "output_type": "stream",
     "text": [
      "1.1077943347836423\n"
     ]
    }
   ],
   "source": [
    "df['seconds_log'] = np.log(df['seconds'])\n",
    "print(df['seconds_log'].var())"
   ]
  },
  {
   "cell_type": "markdown",
   "metadata": {},
   "source": [
    "Let's move on to the categorical columns."
   ]
  },
  {
   "cell_type": "code",
   "execution_count": 10,
   "metadata": {},
   "outputs": [
    {
     "data": {
      "image/png": "[encoded data removed]",
      "text/plain": [
       "<Figure size 720x288 with 2 Axes>"
      ]
     },
     "metadata": {},
     "output_type": "display_data"
    }
   ],
   "source": [
    "sns.set()\n",
    "fig, ax = plt.subplots(ncols=2, figsize=(10,4))\n",
    "_country = sns.countplot(x=df['country'], ax=ax[0])\n",
    "_type = sns.countplot(x=df['type'], ax=ax[1])\n",
    "_type.set_xticklabels(labels=df.type.unique(), rotation=90)\n",
    "_type = plt.ylabel('')\n",
    "\n",
    "plt.show()"
   ]
  },
  {
   "cell_type": "markdown",
   "metadata": {},
   "source": [
    "To be able to work with the categorical features and fit them into a model, I will convert them to numerical values. For the country column lets replace US with 1 and non-US countries with 0. For the type column lets one-hot-encode all types (create a column for each type). Another thing to note is the high imbalance in the country column. I'll deal with this later on by enabling stratify sampling in the train-test-split."
   ]
  },
  {
   "cell_type": "code",
   "execution_count": 11,
   "metadata": {},
   "outputs": [],
   "source": [
    "df['country'] = np.where(df['country']=='us', 1, 0) \n",
    "df_type = pd.get_dummies(df['type'], drop_first=True)\n",
    "df = pd.concat([df, df_type], axis=1)"
   ]
  },
  {
   "cell_type": "markdown",
   "metadata": {},
   "source": [
    "Next, let's tackle the date column and extract the month and the year of the sighting to use them as a feature in our model."
   ]
  },
  {
   "cell_type": "code",
   "execution_count": 12,
   "metadata": {},
   "outputs": [
    {
     "data": {
      "text/html": [
       "<div>\n",
       "<style scoped>\n",
       "    .dataframe tbody tr th:only-of-type {\n",
       "        vertical-align: middle;\n",
       "    }\n",
       "\n",
       "    .dataframe tbody tr th {\n",
       "        vertical-align: top;\n",
       "    }\n",
       "\n",
       "    .dataframe thead th {\n",
       "        text-align: right;\n",
       "    }\n",
       "</style>\n",
       "<table border=\"1\" class=\"dataframe\">\n",
       "  <thead>\n",
       "    <tr style=\"text-align: right;\">\n",
       "      <th></th>\n",
       "      <th>date</th>\n",
       "      <th>month</th>\n",
       "      <th>year</th>\n",
       "    </tr>\n",
       "  </thead>\n",
       "  <tbody>\n",
       "    <tr>\n",
       "      <th>3</th>\n",
       "      <td>2002-11-21 05:45:00</td>\n",
       "      <td>11</td>\n",
       "      <td>2002</td>\n",
       "    </tr>\n",
       "    <tr>\n",
       "      <th>5</th>\n",
       "      <td>2012-06-16 23:00:00</td>\n",
       "      <td>6</td>\n",
       "      <td>2012</td>\n",
       "    </tr>\n",
       "    <tr>\n",
       "      <th>8</th>\n",
       "      <td>2013-06-09 00:00:00</td>\n",
       "      <td>6</td>\n",
       "      <td>2013</td>\n",
       "    </tr>\n",
       "    <tr>\n",
       "      <th>9</th>\n",
       "      <td>2013-04-26 23:27:00</td>\n",
       "      <td>4</td>\n",
       "      <td>2013</td>\n",
       "    </tr>\n",
       "    <tr>\n",
       "      <th>10</th>\n",
       "      <td>2013-09-13 20:30:00</td>\n",
       "      <td>9</td>\n",
       "      <td>2013</td>\n",
       "    </tr>\n",
       "  </tbody>\n",
       "</table>\n",
       "</div>"
      ],
      "text/plain": [
       "                  date  month  year\n",
       "3  2002-11-21 05:45:00     11  2002\n",
       "5  2012-06-16 23:00:00      6  2012\n",
       "8  2013-06-09 00:00:00      6  2013\n",
       "9  2013-04-26 23:27:00      4  2013\n",
       "10 2013-09-13 20:30:00      9  2013"
      ]
     },
     "execution_count": 12,
     "metadata": {},
     "output_type": "execute_result"
    }
   ],
   "source": [
    "df['month'] = df['date'].apply(lambda date: date.month) #iterate over all date-values and extract the month\n",
    "df['year'] = df['date'].apply(lambda date: date.year) #iterate over all date-values and extract the year\n",
    "\n",
    "df[['date', 'month', 'year']].head()"
   ]
  },
  {
   "cell_type": "markdown",
   "metadata": {},
   "source": [
    "**Feature Selection**\n",
    "\n",
    "1. remove redundant features\n",
    "2. create tfidf text-vector and filter high-weighted words\n",
    "\n",
    "1."
   ]
  },
  {
   "cell_type": "code",
   "execution_count": 13,
   "metadata": {},
   "outputs": [
    {
     "data": {
      "text/html": [
       "<style  type=\"text/css\" >\n",
       "    #T_924fcecc_c67b_11e9_adce_acde48001122row0_col0 {\n",
       "            background-color:  #b40426;\n",
       "        }    #T_924fcecc_c67b_11e9_adce_acde48001122row0_col1 {\n",
       "            background-color:  #7295f4;\n",
       "        }    #T_924fcecc_c67b_11e9_adce_acde48001122row0_col2 {\n",
       "            background-color:  #dc5d4a;\n",
       "        }    #T_924fcecc_c67b_11e9_adce_acde48001122row1_col0 {\n",
       "            background-color:  #3b4cc0;\n",
       "        }    #T_924fcecc_c67b_11e9_adce_acde48001122row1_col1 {\n",
       "            background-color:  #b40426;\n",
       "        }    #T_924fcecc_c67b_11e9_adce_acde48001122row1_col2 {\n",
       "            background-color:  #3b4cc0;\n",
       "        }    #T_924fcecc_c67b_11e9_adce_acde48001122row2_col0 {\n",
       "            background-color:  #e26952;\n",
       "        }    #T_924fcecc_c67b_11e9_adce_acde48001122row2_col1 {\n",
       "            background-color:  #3b4cc0;\n",
       "        }    #T_924fcecc_c67b_11e9_adce_acde48001122row2_col2 {\n",
       "            background-color:  #b40426;\n",
       "        }</style>  \n",
       "<table id=\"T_924fcecc_c67b_11e9_adce_acde48001122\" > \n",
       "<thead>    <tr> \n",
       "        <th class=\"blank level0\" ></th> \n",
       "        <th class=\"col_heading level0 col0\" >seconds</th> \n",
       "        <th class=\"col_heading level0 col1\" >seconds_log</th> \n",
       "        <th class=\"col_heading level0 col2\" >minutes</th> \n",
       "    </tr></thead> \n",
       "<tbody>    <tr> \n",
       "        <th id=\"T_924fcecc_c67b_11e9_adce_acde48001122level0_row0\" class=\"row_heading level0 row0\" >seconds</th> \n",
       "        <td id=\"T_924fcecc_c67b_11e9_adce_acde48001122row0_col0\" class=\"data row0 col0\" >1</td> \n",
       "        <td id=\"T_924fcecc_c67b_11e9_adce_acde48001122row0_col1\" class=\"data row0 col1\" >0.8543</td> \n",
       "        <td id=\"T_924fcecc_c67b_11e9_adce_acde48001122row0_col2\" class=\"data row0 col2\" >0.97926</td> \n",
       "    </tr>    <tr> \n",
       "        <th id=\"T_924fcecc_c67b_11e9_adce_acde48001122level0_row1\" class=\"row_heading level0 row1\" >seconds_log</th> \n",
       "        <td id=\"T_924fcecc_c67b_11e9_adce_acde48001122row1_col0\" class=\"data row1 col0\" >0.8543</td> \n",
       "        <td id=\"T_924fcecc_c67b_11e9_adce_acde48001122row1_col1\" class=\"data row1 col1\" >1</td> \n",
       "        <td id=\"T_924fcecc_c67b_11e9_adce_acde48001122row1_col2\" class=\"data row1 col2\" >0.823576</td> \n",
       "    </tr>    <tr> \n",
       "        <th id=\"T_924fcecc_c67b_11e9_adce_acde48001122level0_row2\" class=\"row_heading level0 row2\" >minutes</th> \n",
       "        <td id=\"T_924fcecc_c67b_11e9_adce_acde48001122row2_col0\" class=\"data row2 col0\" >0.97926</td> \n",
       "        <td id=\"T_924fcecc_c67b_11e9_adce_acde48001122row2_col1\" class=\"data row2 col1\" >0.823576</td> \n",
       "        <td id=\"T_924fcecc_c67b_11e9_adce_acde48001122row2_col2\" class=\"data row2 col2\" >1</td> \n",
       "    </tr></tbody> \n",
       "</table> "
      ],
      "text/plain": [
       "<pandas.io.formats.style.Styler at 0x104cf59e8>"
      ]
     },
     "execution_count": 13,
     "metadata": {},
     "output_type": "execute_result"
    }
   ],
   "source": [
    "corr = df[['seconds','seconds_log','minutes']].corr()\n",
    "corr.style.background_gradient(cmap='coolwarm')"
   ]
  },
  {
   "cell_type": "markdown",
   "metadata": {},
   "source": [
    "As you can see seconds, seconds_log and minutes correlate with each other. I will remove seconds and minutes and only keep seconds_log.\n",
    "\n",
    "There are also several features related to location. I am going to drop all except the country column we updated with numerical values.\n",
    "\n",
    "Same goes for the date related features. I am going to keep the newly created month and year columns but remove the other ones ('date', 'recorded'). Length-of-time can be removed aswell, because we already extracted the minute column and decided to work with seconds."
   ]
  },
  {
   "cell_type": "code",
   "execution_count": 14,
   "metadata": {},
   "outputs": [],
   "source": [
    "to_drop = [\"city\", \"date\", \"lat\", \"length_of_time\", \"long\", \"minutes\", \"recorded\", \"seconds\", \"state\"]\n",
    "df = df.drop(to_drop, axis = 1)"
   ]
  },
  {
   "cell_type": "markdown",
   "metadata": {},
   "source": [
    "2."
   ]
  },
  {
   "cell_type": "code",
   "execution_count": 15,
   "metadata": {},
   "outputs": [
    {
     "name": "stdout",
     "output_type": "stream",
     "text": [
      "(1718, 3235)\n"
     ]
    }
   ],
   "source": [
    "from sklearn.feature_extraction.text import TfidfVectorizer\n",
    "\n",
    "tfidf_vec = TfidfVectorizer()\n",
    "desc_tfidf = tfidf_vec.fit_transform(df['desc'])\n",
    "print(desc_tfidf.toarray().shape) #1718 rows and 3235 columns, one column for each feature has been created\n",
    "vocab = {v: k for k, v in tfidf_vec.vocabulary_.items()} #reverse key and value from original vocab (tfidf_vec.vocabulary)\n",
    "#zipped_row = dict(zip(desc_tfidf.indices, desc_tfidf.data)) #zip index and weights\n",
    "filtered_words = words_to_filter(vocab, tfidf_vec.vocabulary_, desc_tfidf, 5) #filtered top 5 weighted words for each description\n",
    "\n",
    "#The Sighting-Description column 'Desc' has been vectorized, so we don't need the original column anymore.\n",
    "df = df.drop(\"desc\", axis = 1)"
   ]
  },
  {
   "cell_type": "code",
   "execution_count": 16,
   "metadata": {},
   "outputs": [],
   "source": [
    "X = df.drop(['type', 'country'], axis = 1)\n",
    "y = df['country'].values\n",
    "\n",
    "X_train, X_test, y_train, y_test = train_test_split(X, y, random_state = 42, test_size = 0.25, stratify = y)"
   ]
  },
  {
   "cell_type": "markdown",
   "metadata": {},
   "source": [
    "### Classifying the country of a UFO Sighting\n",
    "\n",
    "1. KNeighborsClassifier\n",
    "2. Logistic Regression"
   ]
  },
  {
   "cell_type": "markdown",
   "metadata": {},
   "source": [
    "**KNeighborsClassifier**\n",
    "\n",
    "n_neighbors = Number of neighbors"
   ]
  },
  {
   "cell_type": "code",
   "execution_count": 17,
   "metadata": {
    "scrolled": true
   },
   "outputs": [
    {
     "name": "stdout",
     "output_type": "stream",
     "text": [
      "Tuned KNeighborsClassifier Parameters: {'n_neighbors': 7}\n",
      "Best score: 0.9565217391304348\n",
      "Holdout-set Score: 0.9558139534883721\n"
     ]
    }
   ],
   "source": [
    "knn_class = KNeighborsClassifier()\n",
    "\n",
    "param_grid = {'n_neighbors': np.arange(5, 16, 1)} \n",
    "\n",
    "grid_knn_class = GridSearchCV(\n",
    "    estimator=knn_class,\n",
    "    param_grid=param_grid,\n",
    "    scoring='accuracy',\n",
    "    n_jobs=4,\n",
    "    cv=5,\n",
    "    refit=True, return_train_score=True)\n",
    "\n",
    "grid_knn_class.fit(X_train, y_train)\n",
    "\n",
    "print(\"Tuned KNeighborsClassifier Parameters: {}\".format(grid_knn_class.best_params_)) \n",
    "print(\"Best score: {}\".format(grid_knn_class.best_score_))\n",
    "print(\"Holdout-set Score: {}\".format(grid_knn_class.score(X_test, y_test)))"
   ]
  },
  {
   "cell_type": "markdown",
   "metadata": {},
   "source": [
    "**Logistic Regression**\n",
    "\n",
    "C controls the inverse of the regularization strength. A large C can lead to an overfit model, while a small C can lead to an underfit model. I'll define a c-space and let the gridsearch decide which one scores the best and test it out with the holdout-set in the end, similar to the KNN Model."
   ]
  },
  {
   "cell_type": "code",
   "execution_count": 18,
   "metadata": {},
   "outputs": [
    {
     "name": "stdout",
     "output_type": "stream",
     "text": [
      "Tuned Logistic Regression Parameters: {'C': 1e-05}\n",
      "Best score is 0.9565217391304348\n",
      "Holdout-set Score: 0.9558139534883721\n"
     ]
    }
   ],
   "source": [
    "from sklearn.linear_model import LogisticRegression\n",
    "\n",
    "#hyperparameter grid\n",
    "c_space = np.logspace(-5, 8, 15)\n",
    "param_grid = {'C': c_space}\n",
    "\n",
    "logreg = LogisticRegression(solver='lbfgs', max_iter=1000)\n",
    "\n",
    "logreg_cv = GridSearchCV(logreg, param_grid, \n",
    "                         cv=5, \n",
    "                         scoring='accuracy',\n",
    "                         n_jobs=4,\n",
    "                         refit=True, return_train_score=True)\n",
    "\n",
    "\n",
    "\n",
    "logreg_cv.fit(X_train, y_train)\n",
    "\n",
    "#tuned parameters and score results\n",
    "print(\"Tuned Logistic Regression Parameters: {}\".format(logreg_cv.best_params_)) \n",
    "print(\"Best score is {}\".format(logreg_cv.best_score_))\n",
    "print(\"Holdout-set Score: {}\".format(logreg_cv.score(X_test, y_test)))"
   ]
  },
  {
   "cell_type": "markdown",
   "metadata": {},
   "source": [
    "### Classifying the type of a UFO Sighting"
   ]
  },
  {
   "cell_type": "markdown",
   "metadata": {},
   "source": [
    "**Multinomial Naive Bayes**\n",
    "\n",
    "The multinomial Naive Bayes classifier is suitable for classification with discrete features (e.g., word counts for text classification). The multinomial distribution normally requires integer feature counts. **However, in practice, fractional counts such as tf-idf may also work.**\n",
    "\n",
    "\n",
    "The Multinomial naive bayes applies the Bayes theorem with the assumption of conditional idependence between every pair of a feature.\n",
    "\n",
    "--------------\n",
    "$$ P(A \\mid B) = \\frac{P(B \\mid A) \\, P(A)}{P(B)} $$"
   ]
  },
  {
   "cell_type": "code",
   "execution_count": 19,
   "metadata": {},
   "outputs": [],
   "source": [
    "filtered_text = desc_tfidf[:, list(filtered_words)]\n",
    "\n",
    "X = filtered_text.toarray()\n",
    "y = df['type'].values\n",
    "\n",
    "X_train, X_test, y_train, y_test = train_test_split(X, y, random_state = 42, test_size = 0.25, stratify = y)"
   ]
  },
  {
   "cell_type": "code",
   "execution_count": 20,
   "metadata": {},
   "outputs": [
    {
     "name": "stdout",
     "output_type": "stream",
     "text": [
      "0.26046511627906976\n"
     ]
    }
   ],
   "source": [
    "nb = MultinomialNB()\n",
    "nb.fit(X_train, y_train)\n",
    "print(nb.score(X_test, y_test))"
   ]
  },
  {
   "cell_type": "markdown",
   "metadata": {},
   "source": [
    "**Conclusion**\n",
    "\n",
    "The score to predict the country of the sighting (us or not us) is pretty good on both KNN and Logistic Regression!\n",
    "\n",
    "Sadly, the model performance in predicting the type of the UFO-Sighting is really bad. Further investigating the text or finding other features that are useful in predicting the type would be the next step."
   ]
  }
 ],
 "metadata": {
  "kernelspec": {
   "display_name": "Python 3",
   "language": "python",
   "name": "python3"
  },
  "language_info": {
   "codemirror_mode": {
    "name": "ipython",
    "version": 3
   },
   "file_extension": ".py",
   "mimetype": "text/x-python",
   "name": "python",
   "nbconvert_exporter": "python",
   "pygments_lexer": "ipython3",
   "version": "3.7.1"
  }
 },
 "nbformat": 4,
 "nbformat_minor": 2
}
